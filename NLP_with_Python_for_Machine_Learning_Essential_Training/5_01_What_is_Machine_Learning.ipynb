{
 "cells": [
  {
   "cell_type": "markdown",
   "metadata": {},
   "source": [
    "# What is Machine Learning?  \n",
    "  \n",
    "\"The field of study that gives computers the ability to learn without being explicitly programmed\" - Arthur Samuel, 1959  \n",
    "\n",
    "\"A computer program is said to learn from experience E with respect to some task T and some performance measure P, if its performance on T, as measured by P, improves with experience E.\" - Tom Mitchell, 1998  \n",
    "\n",
    "\"Algorithms that 'can figure out how to perform important tasks by generalizing from examples'\" - University of Washington, 2012  \n",
    "\n",
    "*Machine Learning is training an algorithm on a set of known examples with a clear goal of generalizing to unseen examples.* \n",
    "  \n",
    "\"Practice of using algorithms to parse data, learn from it, and then make a determination or prediction about something in the world\" - NVIDIA, 2016  "
   ]
  },
  {
   "cell_type": "markdown",
   "metadata": {},
   "source": [
    "### Two types of ML  \n",
    "- **Supervised Learning**  \n",
    "    *inferring a function from labeled training data to make predictions on unseen data*  \n",
    "    *(example: predict whether any given email is spam based on known information about the email)*\n",
    "- **Unsupervised Learning**  \n",
    "    *deriving structure from data where we don't know the effect of any of the variables*  \n",
    "    *(example: based on the content of an email, group similar emails together in distinct folders)*"
   ]
  },
  {
   "cell_type": "markdown",
   "metadata": {},
   "source": [
    "## Holdout Test Set  \n",
    "  \n",
    "Sample of data not used in fitting a model for the purpose of evaluating the model's ability to generalize unseen data"
   ]
  },
  {
   "cell_type": "markdown",
   "metadata": {},
   "source": [
    "## K-Fold Cross-Validation  \n",
    "  \n",
    "The full data set is divided into k-subsets and the holdout method is repeated k times. Each time, one of the k-subsets is used as the test set and the other k-1 subsets are put together to be used to train the model.  \n",
    "  \n",
    "The purpose is that this gives you a little bit more robust read on the performance of the model, rather than just having one single hold out test set for the model to be evaluated on."
   ]
  },
  {
   "cell_type": "markdown",
   "metadata": {},
   "source": [
    "![fivefold_cross_validation.png](fivefold_cross_validation.png)  \n",
    "  \n",
    "This way every subset has been used in a training data set four times and in an evaluation set once."
   ]
  },
  {
   "cell_type": "markdown",
   "metadata": {},
   "source": [
    "# Evaluation Metrics  \n",
    "  \n",
    "- Accuracy = # predicted correctly / total # of observations\n",
    "- Precision = # predicted as spam that are actually spam / total # predicted as spam\n",
    "- Recall = # predicted as spam that are actually spam / total # that are actually spam  \n",
    "\n",
    "![evaluation_metrics.png](evaluation_metrics.png)  \n",
    "  \n",
    "Precision-Recall give us the ability to kind of tailor the aggressiveness of our algorithm based on our business problem. For instance, if false positives are really costly then we'll want to optimize our model for precision, but if false negatives are really costly, then we'll want to optimize the model for recall."
   ]
  },
  {
   "cell_type": "markdown",
   "metadata": {},
   "source": [
    "# Ensemble Method  \n",
    "  \n",
    "Technique that creates multiple methods and then combines them to produce better results than any of the single models individually.  \n",
    "  \n",
    "![ensemble_method.png](ensemble_method.png)  \n",
    "  \n",
    "The idea is to combine a lot multiple weak models in order to create a single string model. This leverages the aggregate opinion of many over the isolated opinion of one. An example of ensemble learning method is Random Forest"
   ]
  }
 ],
 "metadata": {
  "kernelspec": {
   "display_name": "Python 3.8.10 ('.venv': venv)",
   "language": "python",
   "name": "python3"
  },
  "language_info": {
   "name": "python",
   "version": "3.8.10"
  },
  "orig_nbformat": 4,
  "vscode": {
   "interpreter": {
    "hash": "d2075689bce2225fe1d34c979cffb8c89a74985a811a133c7a2563e25395bbfc"
   }
  }
 },
 "nbformat": 4,
 "nbformat_minor": 2
}
