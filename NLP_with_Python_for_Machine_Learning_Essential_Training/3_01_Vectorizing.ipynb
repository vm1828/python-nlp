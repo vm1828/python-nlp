{
 "cells": [
  {
   "cell_type": "markdown",
   "metadata": {},
   "source": [
    "# Vectorizing"
   ]
  },
  {
   "cell_type": "markdown",
   "metadata": {},
   "source": [
    "**Vectorizing** - process of encoding text as integers to create feature vectors  \n",
    "  \n",
    "**Feature vector** - an n-dimensional vector of numerical features that represent some object"
   ]
  },
  {
   "cell_type": "markdown",
   "metadata": {},
   "source": [
    "#### Types of vectorization:\n",
    "- Count vectorization\n",
    "- N-grams\n",
    "- Term frequency - inverse document frequency (TF-IDF)"
   ]
  },
  {
   "cell_type": "markdown",
   "metadata": {},
   "source": [
    "*Example of Document-term matrix created using Count vectorization*:  \n",
    "\n",
    "| body_text     | call | claim | free | txt | label |\n",
    "| ------------- | ---- | ----- | ---- | --- | ----- |\n",
    "| Free entry in | 0    | 0     | 1    | 1   | spam  |\n",
    "| I HAVE A DA   | 0    | 0     | 0    | 0   | ham   |\n",
    "| WINNER!! As   | 1    | 2     | 0    | 0   | spam  |"
   ]
  }
 ],
 "metadata": {
  "kernelspec": {
   "display_name": "Python 3.8.10 ('.venv': venv)",
   "language": "python",
   "name": "python3"
  },
  "language_info": {
   "name": "python",
   "version": "3.8.10"
  },
  "orig_nbformat": 4,
  "vscode": {
   "interpreter": {
    "hash": "d2075689bce2225fe1d34c979cffb8c89a74985a811a133c7a2563e25395bbfc"
   }
  }
 },
 "nbformat": 4,
 "nbformat_minor": 2
}
