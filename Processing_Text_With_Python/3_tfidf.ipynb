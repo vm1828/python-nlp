{
 "cells": [
  {
   "attachments": {},
   "cell_type": "markdown",
   "metadata": {},
   "source": [
    "## Term Frequency - Inverse Document Frequency (IF-IDF)"
   ]
  },
  {
   "attachments": {},
   "cell_type": "markdown",
   "metadata": {},
   "source": [
    "TF-IDF mining technique is used to convert text into a numeric table representation.\n",
    "Its output is a table where rows represent documents and columns represent words.\n",
    "Each cell provides a count/value that indicates the strength of the word with respect to the document\n",
    "\n",
    "##### _**Creating the count table:**_\n",
    "\n",
    "| Document | sample | good | word | again | same | real | hurt |\n",
    "| -------- | ------ | ---- | ---- | ----- | ---- | ---- | ---- |\n",
    "| Doc1     | 1      | 1    | 1    |       |      |      |      |\n",
    "| Doc2     |        |      | 2    | 2     | 1    |      |      |\n",
    "| Doc3     |        |      | 1    |       |      | 1    | 1    |\n",
    "\n",
    "##### _**Finding term frequency:**_\n",
    "\n",
    "| Document | sample | good | word | again | same | real | hurt |\n",
    "| -------- | ------ | ---- | ---- | ----- | ---- | ---- | ---- |\n",
    "| Doc1     | 0.33   | 0.33 | 0.33 |       |      |      |      |\n",
    "| Doc2     |        |      | 0.4  | 0.4   | 0.2  |      |      |\n",
    "| Doc3     |        |      | 0.33 |       |      | 0.33 | 0.33 |\n",
    "\n",
    "##### _**Finding inverse document frequency:**_\n",
    "\n",
    "$$log_e(\\frac{\\text{total docs}}{\\text{docs with the word}})$$\n",
    "\n",
    "| Document | sample | good  | word | again | same  | real  | hurt  |\n",
    "| -------- | ------ | ----- | ---- | ----- | ----- | ----- | ----- |\n",
    "| IDF      | 1.098  | 1.098 | 0    | 1.098 | 1.098 | 1.098 | 1.098 |\n",
    "\n",
    "The purpose of IDF is to find words that are unique and prevalent in a few documents only.  \n",
    "The fewer documents having the word, the higher is IDF.\n",
    "\n",
    "##### _**Finding TF-IDF:**_\n",
    "\n",
    "$$TF*IDF$$\n",
    "\n",
    "| Document | sample | good | word | again | same | real | hurt |\n",
    "| -------- | ------ | ---- | ---- | ----- | ---- | ---- | ---- |\n",
    "| Doc1     | 0.36   | 0.36 | 0    |       |      |      |      |\n",
    "| Doc2     |        |      | 0    | 0.44  | 0.22 |      |      |\n",
    "| Doc3     |        |      | 0    |       |      | 0.36 | 0.36 |\n"
   ]
  },
  {
   "attachments": {},
   "cell_type": "markdown",
   "metadata": {},
   "source": [
    "## Build TF-IDF matrix"
   ]
  },
  {
   "cell_type": "code",
   "execution_count": 10,
   "metadata": {},
   "outputs": [
    {
     "name": "stdout",
     "output_type": "stream",
     "text": [
      "Tokens used as features:\n",
      "['america' 'basketball' 'league' 'nba' 'popular' 'telecast' 'tv']\n",
      "\n",
      "Size of array: (3, 7). Each row represents a document. Each column represents a feature/token\n",
      "\n",
      "Actual TF-IDF array:\n",
      "[[0.         0.38537163 0.65249088 0.65249088 0.         0.\n",
      "  0.        ]\n",
      " [0.54783215 0.42544054 0.         0.         0.72033345 0.\n",
      "  0.        ]\n",
      " [0.44451431 0.34520502 0.         0.         0.         0.5844829\n",
      "  0.5844829 ]]\n"
     ]
    }
   ],
   "source": [
    "from sklearn.feature_extraction.text import TfidfVectorizer\n",
    "import pandas as pd\n",
    "\n",
    "# use a small corpus for each visualization\n",
    "vector_corpus = [\n",
    "    'NBA is a Basketball league',\n",
    "    'Basketball is popular in America',\n",
    "    'TV in America telecast BasketBall'\n",
    "]\n",
    "\n",
    "# create a vectorizer for English language\n",
    "vectorizer = TfidfVectorizer(stop_words='english')\n",
    "\n",
    "# create the vector\n",
    "tfidf = vectorizer.fit_transform(vector_corpus)\n",
    "\n",
    "print(\"Tokens used as features:\")\n",
    "print(vectorizer.get_feature_names_out())\n",
    "print(f\"\\nSize of array: {tfidf.shape}. Each row represents a document. Each column represents a feature/token\")\n",
    "print(\"\\nActual TF-IDF array:\")\n",
    "print(tfidf.toarray())"
   ]
  }
 ],
 "metadata": {
  "kernelspec": {
   "display_name": ".venv",
   "language": "python",
   "name": "python3"
  },
  "language_info": {
   "codemirror_mode": {
    "name": "ipython",
    "version": 3
   },
   "file_extension": ".py",
   "mimetype": "text/x-python",
   "name": "python",
   "nbconvert_exporter": "python",
   "pygments_lexer": "ipython3",
   "version": "3.8.10"
  },
  "orig_nbformat": 4,
  "vscode": {
   "interpreter": {
    "hash": "d2075689bce2225fe1d34c979cffb8c89a74985a811a133c7a2563e25395bbfc"
   }
  }
 },
 "nbformat": 4,
 "nbformat_minor": 2
}
